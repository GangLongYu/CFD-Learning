{
 "cells": [
  {
   "cell_type": "markdown",
   "metadata": {},
   "source": [
    "# 一维Euler方程\n",
    "$$\\frac{\\partial\\rm{U}}{\\partial t}+\\frac{\\rm{f}(\\rm{U})}{\\partial x}=0\\qquad\\rm{U}=\\begin{bmatrix}\\rho\\\\\\rho u\\\\E\\end{bmatrix},\\rm{f}(\\rm{U})=\\begin{bmatrix}\\rho u\\\\\\rho u^2+p\\\\u(E+p)\\end{bmatrix}$$\n",
    "- Sod激波管问题：$x\\in [0, 1]$，$t=0$时\n",
    "$$(p,u,\\rho)=\\begin{cases}1,0,1& x<0.5\\\\0.1,0,0.125& x\\le 0.5\\end{cases} $$\n",
    "- Shu-Osher问题：$x\\in [0, 10]$，$t=0$时\n",
    "$$\\begin{cases}\\rho=3.857143,u=2.629369,p=10.333333&x<1\\\\\\rho=1+A\\sin(\\omega x),u=0,p=1&x\\le 1\\end{cases}$$\n",
    "  其中$A=0.2$，$\\omega=0.5$。"
   ]
  },
  {
   "cell_type": "code",
   "execution_count": 18,
   "metadata": {},
   "outputs": [],
   "source": [
    "import numpy as np\n",
    "import matplotlib\n",
    "import matplotlib.pyplot as plt\n",
    "\n",
    "plt.rc('text', usetex=True)"
   ]
  },
  {
   "cell_type": "markdown",
   "metadata": {},
   "source": [
    "## 激波捕捉格式\n",
    "- 参考：李新亮，《计算流体力学》课件 (PPT) 第 4 讲\n",
    "### TVD"
   ]
  },
  {
   "cell_type": "code",
   "execution_count": null,
   "metadata": {},
   "outputs": [],
   "source": []
  },
  {
   "cell_type": "markdown",
   "metadata": {},
   "source": [
    "## 通量分裂技术：模型方程=>NS/Euler方程\n",
    "- 参考\n",
    "  - 李新亮，《计算流体力学》课件 (PPT) 第 5 讲\n",
    "  - Toro, E. F. (2009). Riemann solvers and numerical methods for fluid dynamics: A practical introduction (3rd ed.). Springer Science & Business Media. https://doi.org/10.1007/b79761\n",
    "### 流通矢量分裂\n",
    "不清楚扰动传播方向：分成正向传播的和负向传播的。\n",
    "$$\\rm{f}(\\rm{U})=\\rm{f}^+(\\rm{U})+\\rm{f}^-(\\rm{U}) $$\n",
    "- Steger-Warming\n",
    "- Lax-Friedrichs\n",
    "- Van Leer\n",
    "- 特征重构\n",
    "### 通量差分分裂\n",
    "- Roe"
   ]
  },
  {
   "cell_type": "code",
   "execution_count": null,
   "metadata": {},
   "outputs": [],
   "source": [
    "def steger_warming_splitting(rho, u, p, c):\n",
    "    pass"
   ]
  },
  {
   "cell_type": "code",
   "execution_count": 46,
   "metadata": {},
   "outputs": [
    {
     "data": {
      "text/plain": [
       "(1, 21)"
      ]
     },
     "execution_count": 46,
     "metadata": {},
     "output_type": "execute_result"
    }
   ],
   "source": [
    "def init_value(nx, init_type):\n",
    "    '''\n",
    "    Generate initial values.\n",
    "    =========================\n",
    "    input: nx: gird number\n",
    "           init_type: Sod or Shu-Osher problem\n",
    "    output: Q: conservative variable, (3,nx)\n",
    "            x: coordinate, 1*nx\n",
    "    '''\n",
    "    gamma = 1.4\n",
    "    init_sod = 0          # Sod problem\n",
    "    init_shu_osher = 1    # Shu-Osher problem\n",
    "    Q = np.zeros((3, nx)) # conservative variable\n",
    "    if init_type == init_sod:\n",
    "        dx = 1 / (nx - 1)\n",
    "        x = np.array([i*dx for i in range(nx)]) # x in [0, 1]\n",
    "        rho1 = 1; u1 = 0; p1 = 1\n",
    "        rho2 = 0.1; u2 = 0; p2 = 0.125\n",
    "        Q[0, :int(nx/2)] = rho1 \n",
    "        Q[1, :int(nx/2)] = rho1*u1 \n",
    "        Q[2, :int(nx/2)] = p1/(gamma-1) + rho1*u1*u1/2 \n",
    "        Q[0, int(nx/2):] = rho2\n",
    "        Q[1, int(nx/2):] = rho2*u2\n",
    "        Q[2, int(nx/2):] = p2/(gamma-1) + rho2*u2*u2/2\n",
    "    else:\n",
    "        dx = 10 / (nx - 1)\n",
    "        x = np.array([i*dx for i in range(nx)]) # x in [0, 10]\n",
    "        rho1 = 3.857143; u1 = 2.629369; p1 = 10.333333\n",
    "        u2 = 0; p2 = 1\n",
    "        Q[0, :] = 1 + 0.2*np.sin(5*x)\n",
    "        Q[0, :int(nx/10)] = rho1\n",
    "        Q[1, :] = (1 + 0.2*np.sin(5*x))*u2\n",
    "        Q[1, :int(nx/10)] = rho1*u1\n",
    "        Q[2, :] = p2/(gamma-1) + (1 + 0.2*np.sin(5*x))*u2*u2/2\n",
    "        Q[2, :int(nx/10)] = p1/(gamma-1) + rho1*u1*u1/2\n",
    "\n",
    "    return Q, x\n",
    "\n",
    "def primitive_var(Q):\n",
    "    '''\n",
    "    Transfer conservative variables into primitive variables.\n",
    "    =========================================================\n",
    "    input: Q: conservative variables, (3,nx)\n",
    "    output: rho, u, p, c: density, velocity, pressure, sound speed, respectively, (nx,)\n",
    "    '''\n",
    "    rho = Q[0, :];\n",
    "    u = Q[1, :]/Q[0, :]\n",
    "    p = (gamma-1)*(Q[2,:]-Q[1,:]*u/2)\n",
    "    c = np.sqrt(gamma*p/rho)\n",
    "\n",
    "    return rho, u, p, c"
   ]
  },
  {
   "cell_type": "markdown",
   "metadata": {},
   "source": [
    "## Riemann问题精确解\n",
    "- 参考：李新亮，《计算流体力学》课件 (PPT) 第 2 讲"
   ]
  },
  {
   "cell_type": "code",
   "execution_count": 15,
   "metadata": {},
   "outputs": [],
   "source": [
    "def f_Riemann(p, pi, ri, gamma):\n",
    "    ci = np.sqrt(gamma * pi / ri) # known sound speed\n",
    "    if p < 0:\n",
    "        print('Error, pressure < 0 !!!\\n')\n",
    "    elif p < 1e-4: # p = 0\n",
    "        fp = -2 * ci / (gamma - 1)\n",
    "    elif p > pi: # rarefraction wave\n",
    "        fp = (p-pi)/(ri*ci)/np.sqrt((gamma+1)/(2*gamma)*(p/pi)+(gamma-1)/(2*gamma))\n",
    "    else:\n",
    "        fp = 2*ci/(gamma-1) * ((p/pi)**((gamma-1)/2/gamma)-1)\n",
    "    return fp\n",
    "\n",
    "\n",
    "def Fp_Riemann(p, p_L, r_L, p_R, r_R, gamma):\n",
    "    Fp = f_Riemann(p, p_L, r_L, gamma) + f_Riemann(p, p_R, r_R, gamma)\n",
    "    return Fp\n",
    "\n",
    "\n",
    "# pressure in the central region by using Newton iteration\n",
    "def pstar_Newton(p_L, u_L, r_L, p_R, u_R, r_R, gamma): \n",
    "    error_level = 1e-15\n",
    "    error = 1e4\n",
    "    delta_p = 1e-4 # get derivative dF/dp\n",
    "    du = u_L - u_R\n",
    "\n",
    "    pstar = np.min([p_L, p_R]) # initial value of pstar\n",
    "    while error > error_level:\n",
    "        dF_dp = (Fp_Riemann(pstar+delta_p,p_L,r_L,p_R,r_R,gamma)-Fp_Riemann(pstar,p_L,r_L,p_R,r_R,gamma))/delta_p # F'(pstar)\n",
    "        pstar_new = pstar - (Fp_Riemann(pstar,p_L,r_L,p_R,r_R,gamma)-du)/dF_dp\n",
    "        if pstar_new < 0:\n",
    "            pstar_new = 0 # p<0 non-physical\n",
    "        error = abs(pstar_new - pstar)\n",
    "        pstar = pstar_new\n",
    "        print('\"pstar = {}, \", \"abs(pstar_new - pstar) = {}\"'.format(pstar, error))\n",
    "    return pstar\n",
    "\n",
    "\n",
    "def Riemann_exact_solver(p_L, u_L, r_L, p_R, u_R, r_R, gamma, nx, t):\n",
    "    r = np.zeros((nx,))\n",
    "    u = r.copy()\n",
    "    p = r.copy()\n",
    "    x = np.array([-1+2*i/(nx-1) for i in range(nx)]) # x in [-1, 1]\n",
    "\n",
    "    c_L = np.sqrt(gamma*p_L/r_L) # sound speed\n",
    "    c_R = np.sqrt(gamma*p_R/r_R)\n",
    "    pstar = pstar_Newton(p_L, u_L, r_L, p_R, u_R, r_R, gamma)\n",
    "    ustar = (u_L-f_Riemann(pstar,p_L,r_L,gamma) + u_R+f_Riemann(pstar,p_R,r_R,gamma))/2\n",
    "    den_L = r_L*c_L*np.sqrt((gamma+1)/(2*gamma)*(pstar/p_L)+(gamma-1)/(2*gamma)) # f(p)激波表达式的分母\n",
    "    den_R = r_R*c_R*np.sqrt((gamma+1)/(2*gamma)*(pstar/p_R)+(gamma-1)/(2*gamma)) \n",
    "\n",
    "    if pstar > p_L: # shock wave (left)\n",
    "        z_L = u_L - den_L / r_L\n",
    "        rstar_L = r_L*den_L/(den_L+r_L*(ustar-u_L))\n",
    "\n",
    "        index = x < z_L * t                                      # 左激波左侧\n",
    "        p[index] = p_L; u[index] = u_L; r[index] = r_L; \n",
    "        a = x >= z_L * t; b = x < ustar * t; index = a & b       # 左激波到接触间断\n",
    "        p[index] = pstar; u[index] = ustar; r[index] = rstar_L; \n",
    "        if pstar > p_R: # shock wave (right)\n",
    "            z_R = u_R + den_R / r_R\n",
    "            rstar_R = r_R*den_R/(den_R-r_R*(ustar-u_R))\n",
    "\n",
    "            a = x >= ustar * t; b = x < z_R * t; index = a & b   # 接触间断到右激波左侧\n",
    "            p[index] = pstar; u[index] = ustar; r[index] = rstar_R; \n",
    "            index = x >= z_R * t                                 # 右激波右侧\n",
    "            p[index] = p_R; u[index] = u_R; r[index] = r_R; \n",
    "        else:           # rarefraction wave (right)\n",
    "            rstar_R = r_R * (pstar/p_R)**(1/gamma)\n",
    "            cstar_R = np.sqrt(gamma*pstar/rstar_R)\n",
    "            z_R_head = u_R + c_R\n",
    "            z_R_tail = ustar + cstar_R\n",
    "\n",
    "            a = x >= ustar * t; b = x < z_R_tail * t; index = a & b    # 接触间断到右稀疏波左侧\n",
    "            p[index] = pstar; u[index] = ustar; r[index] = rstar_R; \n",
    "            a = x >= z_R_tail * t; b = x < z_R_head * t; index = a & b # 右稀疏波内部\n",
    "            ca = (gamma-1)/(gamma+1)*(x[index]/t-u_R) + 2/(gamma+1)*c_R\n",
    "            u[index] = x[index]/t - ca; p[index] = p_R*(ca/c_R)**(2*gamma/(gamma-1)); r[index] = gamma*p[index]/(ca*ca)\n",
    "            index = x >= z_R_head * t                     # 右稀疏波右侧\n",
    "            p[index] = p_R; u[index] = u_R; r[index] = r_R; \n",
    "    else:           # rarefraction wave (left)\n",
    "        rstar_L = r_L * (pstar/p_L)**(1/gamma)\n",
    "        z_L_head = u_L - c_L\n",
    "        if rstar_L < 1e-4: # 两稀疏波中间为真空，rho=0，声速无定义\n",
    "            z_L_tail = u_L + 2*c_L/(gamma-1)\n",
    "        else:\n",
    "            cstar_L = np.sqrt(gamma*pstar/rstar_L)\n",
    "            z_L_tail = ustar - cstar_L\n",
    "\n",
    "        index = x < z_L_head * t                                   # 左稀疏波左侧\n",
    "        p[index] = p_L; u[index] = u_L; r[index] = r_L; \n",
    "        a = x >= z_L_head * t; b = x < z_L_tail * t; index = a & b # 左稀疏波内部\n",
    "        ca = (gamma-1)/(gamma+1)*(u_L-x[index]/t)+2*c_L/(gamma+1)\n",
    "        u[index] = x[index]/t + ca; p[index] = p_L*(ca/c_L)**(2*gamma/(gamma-1)); r[index] = gamma*p[index]/(ca*ca)\n",
    "        if pstar > p_R: # shock wave (right)\n",
    "            z_R = u_R + den_R / r_R\n",
    "            rstar_R = r_R*den_R/(den_R-r_R*(ustar-u_R))\n",
    "\n",
    "            a = x >= z_L_tail * t; b =  x < ustar * t; index = a & b\n",
    "            p[index] = pstar; u[index] = ustar; r[index] = rstar_L; \n",
    "            a = x >= ustar * t; b = x < z_R * t; index = a & b   # 接触间断到右激波左侧\n",
    "            p[index] = pstar; u[index] = ustar; r[index] = rstar_R; \n",
    "            index = x >= z_R * t                                 # 右激波右侧\n",
    "            p[index] = p_R; u[index] = u_R; r[index] = r_R; \n",
    "        else:           # rarefraction wave (right)\n",
    "            rstar_R = r_R * (pstar/p_R)**(1/gamma)\n",
    "            z_R_head = u_R + c_R\n",
    "            if rstar_R < 1e-4: # 中间真空\n",
    "                z_R_tail = u_R - 2*c_R/(gamma-1)\n",
    "                a = x >= z_L_tail * t; b =  x < z_R_tail * t; index = a & b\n",
    "                p[index] = 0; u[index] = 0; r[index] = 0; \n",
    "            else:              # 中间非真空，存在接触间断\n",
    "                cstar_R = np.sqrt(gamma*pstar/rstar_R)\n",
    "                z_R_tail = ustar + cstar_R\n",
    "                a = x >= z_L_tail * t; b =  x < ustar * t; index = a & b\n",
    "                p[index] = pstar; u[index] = ustar; r[index] = rstar_L; \n",
    "                a = x >= ustar * t; b = x < z_R_tail * t; index = a & b    # 接触间断到右稀疏波左侧\n",
    "                p[index] = pstar; u[index] = ustar; r[index] = rstar_R; \n",
    "\n",
    "            a = x >= z_R_tail * t; b = x < z_R_head * t; index = a & b # 右稀疏波内部\n",
    "            ca = (gamma-1)/(gamma+1)*(x[index]/t-u_R) + 2/(gamma+1)*c_R\n",
    "            u[index] = x[index]/t - ca; p[index] = p_R*(ca/c_R)**(2*gamma/(gamma-1)); r[index] = gamma*p[index]/(ca*ca)\n",
    "            index = x >= z_R_head * t                                  # 右稀疏波右侧\n",
    "            p[index] = p_R; u[index] = u_R; r[index] = r_R; \n",
    "\n",
    "    return r, u, p, x"
   ]
  },
  {
   "cell_type": "code",
   "execution_count": 20,
   "metadata": {},
   "outputs": [
    {
     "name": "stdout",
     "output_type": "stream",
     "text": [
      "===========Exact Riemann Solver, Python Version===========\n",
      "\n",
      "\"pstar = 0.22161733572397446, \", \"abs(pstar_new - pstar) = 0.12161733572397446\"\n",
      "\"pstar = 0.29326129566944353, \", \"abs(pstar_new - pstar) = 0.07164395994546907\"\n",
      "\"pstar = 0.30300368520183324, \", \"abs(pstar_new - pstar) = 0.009742389532389706\"\n",
      "\"pstar = 0.30313017372122036, \", \"abs(pstar_new - pstar) = 0.00012648851938712458\"\n",
      "\"pstar = 0.30313017805120596, \", \"abs(pstar_new - pstar) = 4.329985592299579e-09\"\n",
      "\"pstar = 0.30313017805064674, \", \"abs(pstar_new - pstar) = 5.592193375036913e-13\"\n",
      "\"pstar = 0.30313017805064674, \", \"abs(pstar_new - pstar) = 0.0\"\n"
     ]
    },
    {
     "data": {
      "image/png": "[encoded data removed]",
      "text/plain": [
       "<Figure size 1080x360 with 3 Axes>"
      ]
     },
     "metadata": {
      "needs_background": "light"
     },
     "output_type": "display_data"
    }
   ],
   "source": [
    "p_L, u_L, r_L, p_R, u_R, r_R = [1, 0, 1, 0.1, 0, 0.125] # case 1\n",
    "#p_L, u_L, r_L, p_R, u_R, r_R = [1, 3, 1, 0.2, -1, 0.1]  # case 2\n",
    "#p_L, u_L, r_L, p_R, u_R, r_R = [1, -2, 1, 0.2, 2, 0.4]  # case 3\n",
    "#p_L, u_L, r_L, p_R, u_R, r_R = [0.1, 0, 0.125, 1, 0, 1]  # case 4\n",
    "#p_L, u_L, r_L, p_R, u_R, r_R = [0.2, -8, 1, 0.3, 6, 0.1]  # case 5\n",
    "gamma = 1.4\n",
    "\n",
    "print('===========Exact Riemann Solver, Python Version===========\\n')\n",
    "nx = 201 # grid number for plot\n",
    "t = 0.14 # time\n",
    "\n",
    "r, u, p, x = Riemann_exact_solver(p_L, u_L, r_L, p_R, u_R, r_R, gamma, nx, t)\n",
    "fig = plt.figure(figsize=(15,5)); \n",
    "ax = fig.add_subplot(131)\n",
    "plt.plot(x, r); plt.xlabel('x'); plt.ylabel(r'$\\rho$'); \n",
    "ax = fig.add_subplot(132)\n",
    "plt.plot(x, u); plt.xlabel('x'); plt.ylabel('u')\n",
    "ax = fig.add_subplot(133)\n",
    "plt.plot(x, p); plt.xlabel('x'); plt.ylabel('p')\n",
    "plt.tight_layout()\n",
    "plt.rcParams.update({'font.size': 16})"
   ]
  },
  {
   "cell_type": "code",
   "execution_count": 40,
   "metadata": {},
   "outputs": [
    {
     "data": {
      "text/plain": [
       "array([0.25, 0.4 , 0.5 ])"
      ]
     },
     "execution_count": 40,
     "metadata": {},
     "output_type": "execute_result"
    }
   ],
   "source": [
    "a = np.array([1, 2, 3])\n",
    "b = np.array([4, 5, 6])"
   ]
  }
 ],
 "metadata": {
  "kernelspec": {
   "display_name": "Python 3 (ipykernel)",
   "language": "python",
   "name": "python3"
  },
  "language_info": {
   "codemirror_mode": {
    "name": "ipython",
    "version": 3
   },
   "file_extension": ".py",
   "mimetype": "text/x-python",
   "name": "python",
   "nbconvert_exporter": "python",
   "pygments_lexer": "ipython3",
   "version": "3.9.7"
  },
  "vscode": {
   "interpreter": {
    "hash": "a71a9e4fb054fff428071484f7faa898cb9ecb31a518fe88e3463da9af879578"
   }
  }
 },
 "nbformat": 4,
 "nbformat_minor": 2
}
